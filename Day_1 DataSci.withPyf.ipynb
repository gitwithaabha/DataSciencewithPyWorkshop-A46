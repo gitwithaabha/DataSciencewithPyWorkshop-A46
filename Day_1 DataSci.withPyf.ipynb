{
 "cells": [
  {
   "cell_type": "code",
   "execution_count": 1,
   "id": "10e13a2a",
   "metadata": {},
   "outputs": [
    {
     "name": "stdout",
     "output_type": "stream",
     "text": [
      "Aabha Lokhande\n"
     ]
    }
   ],
   "source": [
    "print('Aabha Lokhande')"
   ]
  },
  {
   "cell_type": "code",
   "execution_count": 2,
   "id": "d0aacfe3",
   "metadata": {},
   "outputs": [],
   "source": [
    "a = 20 \n",
    "# a = variable\n",
    "# = = assignmenty opertator \n",
    "# 20 = data"
   ]
  },
  {
   "cell_type": "code",
   "execution_count": 3,
   "id": "937a27a0",
   "metadata": {},
   "outputs": [
    {
     "data": {
      "text/plain": [
       "20"
      ]
     },
     "execution_count": 3,
     "metadata": {},
     "output_type": "execute_result"
    }
   ],
   "source": [
    "a "
   ]
  },
  {
   "cell_type": "code",
   "execution_count": 4,
   "id": "5dc5bd12",
   "metadata": {},
   "outputs": [
    {
     "name": "stdout",
     "output_type": "stream",
     "text": [
      "20\n"
     ]
    }
   ],
   "source": [
    "print(a)\n",
    "#i/o command"
   ]
  },
  {
   "cell_type": "code",
   "execution_count": 5,
   "id": "36505214",
   "metadata": {},
   "outputs": [
    {
     "name": "stdout",
     "output_type": "stream",
     "text": [
      "Aabha\n"
     ]
    }
   ],
   "source": [
    "a = \"Aabha\"\n",
    "a = 'Aabha'\n",
    "a = '''Aabha'''\n",
    "# \" \" = string\n",
    "print(a)"
   ]
  },
  {
   "cell_type": "code",
   "execution_count": 6,
   "id": "1c3de122",
   "metadata": {},
   "outputs": [
    {
     "name": "stdout",
     "output_type": "stream",
     "text": [
      "AabhaLokhande\n"
     ]
    }
   ],
   "source": [
    "a = \"Aabha\"\n",
    "b = \"Lokhande\"\n",
    "c = a+b #use to concatenate two strings\n",
    "print(c)"
   ]
  },
  {
   "cell_type": "code",
   "execution_count": 8,
   "id": "311afdcd",
   "metadata": {},
   "outputs": [
    {
     "name": "stdout",
     "output_type": "stream",
     "text": [
      "Aabha\n",
      "Lokhande\n"
     ]
    }
   ],
   "source": [
    "print(\"Aabha\\nLokhande\")"
   ]
  },
  {
   "cell_type": "code",
   "execution_count": 10,
   "id": "e6af2a1f",
   "metadata": {},
   "outputs": [
    {
     "name": "stdout",
     "output_type": "stream",
     "text": [
      "Aabha\tLokhande\n"
     ]
    }
   ],
   "source": [
    "print(\"Aabha\\tLokhande\")"
   ]
  },
  {
   "cell_type": "code",
   "execution_count": 11,
   "id": "b627fd2f",
   "metadata": {},
   "outputs": [
    {
     "data": {
      "text/plain": [
       "int"
      ]
     },
     "execution_count": 11,
     "metadata": {},
     "output_type": "execute_result"
    }
   ],
   "source": [
    "a = 20 \n",
    "type(a)"
   ]
  },
  {
   "cell_type": "code",
   "execution_count": 12,
   "id": "33f60c44",
   "metadata": {},
   "outputs": [
    {
     "data": {
      "text/plain": [
       "str"
      ]
     },
     "execution_count": 12,
     "metadata": {},
     "output_type": "execute_result"
    }
   ],
   "source": [
    "a = 'Aabha'\n",
    "type(a)"
   ]
  },
  {
   "cell_type": "code",
   "execution_count": null,
   "id": "95a2bfa6",
   "metadata": {},
   "outputs": [],
   "source": []
  }
 ],
 "metadata": {
  "kernelspec": {
   "display_name": "Python 3 (ipykernel)",
   "language": "python",
   "name": "python3"
  },
  "language_info": {
   "codemirror_mode": {
    "name": "ipython",
    "version": 3
   },
   "file_extension": ".py",
   "mimetype": "text/x-python",
   "name": "python",
   "nbconvert_exporter": "python",
   "pygments_lexer": "ipython3",
   "version": "3.9.7"
  }
 },
 "nbformat": 4,
 "nbformat_minor": 5
}
