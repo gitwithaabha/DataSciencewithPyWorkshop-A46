{
 "cells": [
  {
   "cell_type": "code",
   "execution_count": 1,
   "id": "464edabf",
   "metadata": {},
   "outputs": [],
   "source": [
    "#Create a set"
   ]
  },
  {
   "cell_type": "code",
   "execution_count": 2,
   "id": "b9b54e22",
   "metadata": {},
   "outputs": [],
   "source": [
    "s = {10,22.5,\"Aabha\",True}"
   ]
  },
  {
   "cell_type": "code",
   "execution_count": 3,
   "id": "1cd08dce",
   "metadata": {},
   "outputs": [
    {
     "data": {
      "text/plain": [
       "{10, 22.5, 'Aabha', True}"
      ]
     },
     "execution_count": 3,
     "metadata": {},
     "output_type": "execute_result"
    }
   ],
   "source": [
    "s"
   ]
  },
  {
   "cell_type": "code",
   "execution_count": 4,
   "id": "d190bebb",
   "metadata": {},
   "outputs": [],
   "source": [
    "#Duplicate not allowed"
   ]
  },
  {
   "cell_type": "code",
   "execution_count": 5,
   "id": "0ea16fdf",
   "metadata": {},
   "outputs": [],
   "source": [
    "s = {10,22.5,\"Aabha\",True}"
   ]
  },
  {
   "cell_type": "code",
   "execution_count": 6,
   "id": "8fb939e2",
   "metadata": {},
   "outputs": [
    {
     "data": {
      "text/plain": [
       "{10, 22.5, 'Aabha', True}"
      ]
     },
     "execution_count": 6,
     "metadata": {},
     "output_type": "execute_result"
    }
   ],
   "source": [
    "s"
   ]
  },
  {
   "cell_type": "code",
   "execution_count": 7,
   "id": "31310ea8",
   "metadata": {},
   "outputs": [
    {
     "data": {
      "text/plain": [
       "4"
      ]
     },
     "execution_count": 7,
     "metadata": {},
     "output_type": "execute_result"
    }
   ],
   "source": [
    "len(s)"
   ]
  },
  {
   "cell_type": "code",
   "execution_count": 8,
   "id": "09c056e0",
   "metadata": {},
   "outputs": [
    {
     "data": {
      "text/plain": [
       "set"
      ]
     },
     "execution_count": 8,
     "metadata": {},
     "output_type": "execute_result"
    }
   ],
   "source": [
    "type(s)"
   ]
  },
  {
   "cell_type": "code",
   "execution_count": 9,
   "id": "9b73f6b3",
   "metadata": {},
   "outputs": [],
   "source": [
    "#Unchangable"
   ]
  },
  {
   "cell_type": "code",
   "execution_count": 10,
   "id": "37d3d4cd",
   "metadata": {},
   "outputs": [],
   "source": [
    "s = {10,22.5,\"Aabha\",True}"
   ]
  },
  {
   "cell_type": "code",
   "execution_count": 11,
   "id": "f4891700",
   "metadata": {},
   "outputs": [
    {
     "ename": "TypeError",
     "evalue": "'set' object does not support item assignment",
     "output_type": "error",
     "traceback": [
      "\u001b[1;31m---------------------------------------------------------------------------\u001b[0m",
      "\u001b[1;31mTypeError\u001b[0m                                 Traceback (most recent call last)",
      "\u001b[1;32m~\\AppData\\Local\\Temp\\ipykernel_18084\\3475948573.py\u001b[0m in \u001b[0;36m<module>\u001b[1;34m\u001b[0m\n\u001b[1;32m----> 1\u001b[1;33m \u001b[0ms\u001b[0m\u001b[1;33m[\u001b[0m\u001b[1;36m0\u001b[0m\u001b[1;33m]\u001b[0m\u001b[1;33m=\u001b[0m\u001b[1;36m30\u001b[0m\u001b[1;33m\u001b[0m\u001b[1;33m\u001b[0m\u001b[0m\n\u001b[0m",
      "\u001b[1;31mTypeError\u001b[0m: 'set' object does not support item assignment"
     ]
    }
   ],
   "source": [
    "s[0]=30"
   ]
  },
  {
   "cell_type": "code",
   "execution_count": 12,
   "id": "f754a48e",
   "metadata": {},
   "outputs": [
    {
     "data": {
      "text/plain": [
       "{10, 22.5, 'Aabha', True}"
      ]
     },
     "execution_count": 12,
     "metadata": {},
     "output_type": "execute_result"
    }
   ],
   "source": [
    "s"
   ]
  },
  {
   "cell_type": "code",
   "execution_count": 13,
   "id": "c6d1bd60",
   "metadata": {},
   "outputs": [
    {
     "data": {
      "text/plain": [
       "{10, 22.5, 'Aabha', True, 'shreya'}"
      ]
     },
     "execution_count": 13,
     "metadata": {},
     "output_type": "execute_result"
    }
   ],
   "source": [
    "s.add(\"shreya\")\n",
    "s"
   ]
  },
  {
   "cell_type": "code",
   "execution_count": 14,
   "id": "5407c76f",
   "metadata": {},
   "outputs": [],
   "source": [
    "s.remove(10)"
   ]
  },
  {
   "cell_type": "code",
   "execution_count": 15,
   "id": "6e5694ca",
   "metadata": {},
   "outputs": [
    {
     "data": {
      "text/plain": [
       "{22.5, 'Aabha', True, 'shreya'}"
      ]
     },
     "execution_count": 15,
     "metadata": {},
     "output_type": "execute_result"
    }
   ],
   "source": [
    "s"
   ]
  },
  {
   "cell_type": "code",
   "execution_count": 16,
   "id": "59606092",
   "metadata": {},
   "outputs": [],
   "source": [
    "#Updating multiple elements in set"
   ]
  },
  {
   "cell_type": "code",
   "execution_count": 18,
   "id": "45bb720f",
   "metadata": {},
   "outputs": [
    {
     "name": "stdout",
     "output_type": "stream",
     "text": [
      "{1, 2, 3, 10, 20, 30}\n"
     ]
    }
   ],
   "source": [
    "s={10,20,30}\n",
    "s.update([1,2,3])\n",
    "print(s)"
   ]
  },
  {
   "cell_type": "code",
   "execution_count": 19,
   "id": "ff48e9a8",
   "metadata": {},
   "outputs": [],
   "source": [
    "#Union in python set "
   ]
  },
  {
   "cell_type": "code",
   "execution_count": 20,
   "id": "d0114b89",
   "metadata": {},
   "outputs": [
    {
     "data": {
      "text/plain": [
       "{1, 2, 3, 10, 20, 30}"
      ]
     },
     "execution_count": 20,
     "metadata": {},
     "output_type": "execute_result"
    }
   ],
   "source": [
    "s1={1,2,3}\n",
    "s2={10,20,30}\n",
    "s1.union(s2)"
   ]
  },
  {
   "cell_type": "code",
   "execution_count": 21,
   "id": "45d32fa2",
   "metadata": {},
   "outputs": [],
   "source": [
    "#intersection in python set "
   ]
  },
  {
   "cell_type": "code",
   "execution_count": 22,
   "id": "88bf7797",
   "metadata": {},
   "outputs": [
    {
     "data": {
      "text/plain": [
       "set()"
      ]
     },
     "execution_count": 22,
     "metadata": {},
     "output_type": "execute_result"
    }
   ],
   "source": [
    "s1={1,2,3}\n",
    "s2={10,20,30}\n",
    "s1.intersection(s2)"
   ]
  },
  {
   "cell_type": "code",
   "execution_count": null,
   "id": "7544c583",
   "metadata": {},
   "outputs": [],
   "source": []
  }
 ],
 "metadata": {
  "kernelspec": {
   "display_name": "Python 3 (ipykernel)",
   "language": "python",
   "name": "python3"
  },
  "language_info": {
   "codemirror_mode": {
    "name": "ipython",
    "version": 3
   },
   "file_extension": ".py",
   "mimetype": "text/x-python",
   "name": "python",
   "nbconvert_exporter": "python",
   "pygments_lexer": "ipython3",
   "version": "3.9.13"
  }
 },
 "nbformat": 4,
 "nbformat_minor": 5
}
