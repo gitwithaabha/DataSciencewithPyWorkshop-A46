{
 "cells": [
  {
   "cell_type": "markdown",
   "id": "f5aea898",
   "metadata": {},
   "source": [
    "# CONDITIONAL STATEMENTS"
   ]
  },
  {
   "cell_type": "markdown",
   "id": "d4335421",
   "metadata": {},
   "source": [
    "if , if else , nested if , ladder statement"
   ]
  },
  {
   "cell_type": "code",
   "execution_count": 1,
   "id": "b0e82b7e",
   "metadata": {},
   "outputs": [],
   "source": [
    "#Simple If (if condition is true)"
   ]
  },
  {
   "cell_type": "code",
   "execution_count": 2,
   "id": "bbc79550",
   "metadata": {},
   "outputs": [
    {
     "name": "stdout",
     "output_type": "stream",
     "text": [
      "a is greater than b\n"
     ]
    }
   ],
   "source": [
    "a = 5\n",
    "b = 3\n",
    "if(a>b):\n",
    "    print(\"a is greater than b\")"
   ]
  },
  {
   "cell_type": "code",
   "execution_count": 3,
   "id": "f54e2651",
   "metadata": {},
   "outputs": [
    {
     "name": "stdout",
     "output_type": "stream",
     "text": [
      "enter your roll no\n"
     ]
    }
   ],
   "source": [
    "print(\"enter your roll no\")"
   ]
  },
  {
   "cell_type": "code",
   "execution_count": 4,
   "id": "d8a4f641",
   "metadata": {},
   "outputs": [
    {
     "name": "stdout",
     "output_type": "stream",
     "text": [
      "Aabha2\n",
      "2\n"
     ]
    }
   ],
   "source": [
    "x = input(\"Aabha\")\n",
    "print(x)"
   ]
  },
  {
   "cell_type": "code",
   "execution_count": 5,
   "id": "c748497e",
   "metadata": {},
   "outputs": [],
   "source": [
    "#Simple if-else(if condition is False)"
   ]
  },
  {
   "cell_type": "code",
   "execution_count": 6,
   "id": "041d65d8",
   "metadata": {},
   "outputs": [
    {
     "name": "stdout",
     "output_type": "stream",
     "text": [
      "b is greater than a\n"
     ]
    }
   ],
   "source": [
    "a=3\n",
    "b=5\n",
    "if(a>b):\n",
    "    print(\"a is greater than b\")\n",
    "else:\n",
    "    print(\"b is greater than a\")"
   ]
  },
  {
   "cell_type": "code",
   "execution_count": 11,
   "id": "8f81718e",
   "metadata": {},
   "outputs": [
    {
     "name": "stdout",
     "output_type": "stream",
     "text": [
      "student will not placed\n"
     ]
    }
   ],
   "source": [
    "a = 60 \n",
    "if (a>60):\n",
    "    print(\"student will placed\")\n",
    "else: \n",
    "   print(\"student will not placed\")\n"
   ]
  },
  {
   "cell_type": "code",
   "execution_count": null,
   "id": "bf801cf0",
   "metadata": {},
   "outputs": [],
   "source": [
    "#if-else (user define)"
   ]
  },
  {
   "cell_type": "code",
   "execution_count": 12,
   "id": "4d2b9e1a",
   "metadata": {},
   "outputs": [
    {
     "name": "stdout",
     "output_type": "stream",
     "text": [
      "enter the value of a\n",
      "None2\n",
      "enter the value of b\n",
      "None3\n",
      "b is greater than a,b= 3\n"
     ]
    }
   ],
   "source": [
    "a=int(input(print(\"enter the value of a\")))\n",
    "b=int(input(print(\"enter the value of b\")))\n",
    "if(a>b):\n",
    "    print(\"a is greater than b\",a)\n",
    "else:\n",
    "    print(\"b is greater than a,b=\",b)"
   ]
  },
  {
   "cell_type": "code",
   "execution_count": null,
   "id": "d42893a1",
   "metadata": {},
   "outputs": [],
   "source": []
  }
 ],
 "metadata": {
  "kernelspec": {
   "display_name": "Python 3 (ipykernel)",
   "language": "python",
   "name": "python3"
  },
  "language_info": {
   "codemirror_mode": {
    "name": "ipython",
    "version": 3
   },
   "file_extension": ".py",
   "mimetype": "text/x-python",
   "name": "python",
   "nbconvert_exporter": "python",
   "pygments_lexer": "ipython3",
   "version": "3.9.13"
  }
 },
 "nbformat": 4,
 "nbformat_minor": 5
}
